{
 "cells": [
  {
   "cell_type": "markdown",
   "metadata": {},
   "source": [
    "# Testing web applications"
   ]
  },
  {
   "cell_type": "markdown",
   "metadata": {},
   "source": [
    "This notebook demonstrates basics of the browser automation and testing of web applications.\n",
    "\n",
    "Content:\n",
    "\n",
    "* **[Getting started with Selenium](#Getting-started-with-Selenium)**\n",
    "* **[Getting started with pytest](#Getting-started-with-pytest)**\n",
    "\n",
    "\n",
    "Some links:\n",
    "\n",
    "* https://selenium-python.readthedocs.io/\n",
    "* https://docs.python.org/3/\n",
    "* https://www.seleniumhq.org/\n",
    "* https://docs.pytest.org\n",
    "* https://www.w3schools.com/xml/xpath_intro.asp"
   ]
  },
  {
   "cell_type": "markdown",
   "metadata": {},
   "source": [
    "## Getting started with Selenium"
   ]
  },
  {
   "cell_type": "markdown",
   "metadata": {},
   "source": [
    "Selenium is a software that allows you to automate browser actions. It has bindings for many programming languages. In this workshop we will use python bindings."
   ]
  },
  {
   "cell_type": "code",
   "execution_count": null,
   "metadata": {},
   "outputs": [],
   "source": [
    "# Import required modules\n",
    "from selenium import webdriver\n",
    "from selenium.webdriver.common.desired_capabilities import DesiredCapabilities"
   ]
  },
  {
   "cell_type": "code",
   "execution_count": null,
   "metadata": {},
   "outputs": [],
   "source": [
    "# Initialize a webdriver. We will use Firefox.\n",
    "selenium = webdriver.Remote(desired_capabilities=DesiredCapabilities.FIREFOX)"
   ]
  },
  {
   "cell_type": "code",
   "execution_count": null,
   "metadata": {},
   "outputs": [],
   "source": [
    "# Maximize a browser window\n",
    "selenium.maximize_window()"
   ]
  },
  {
   "cell_type": "markdown",
   "metadata": {},
   "source": [
    "Let's try to open a simple microblog application which runs on localhost and let's perform some basic actions there."
   ]
  },
  {
   "cell_type": "code",
   "execution_count": null,
   "metadata": {},
   "outputs": [],
   "source": [
    "# Open a web page\n",
    "selenium.get(\"http://127.0.0.1:5000\")"
   ]
  },
  {
   "cell_type": "code",
   "execution_count": null,
   "metadata": {},
   "outputs": [],
   "source": [
    "# Find an element that has attribute 'id' and its value is 'usernaname'\n",
    "# <input class=\"form-control\" id=\"username\" name=\"username\" required=\"\" type=\"text\" value=\"\">\n",
    "elem = selenium.find_element_by_id(\"username\")\n",
    "elem.send_keys(\"user\")"
   ]
  },
  {
   "cell_type": "code",
   "execution_count": null,
   "metadata": {},
   "outputs": [],
   "source": [
    "# <input class=\"form-control\" id=\"password\" name=\"password\" required=\"\" type=\"password\" value=\"\">\n",
    "elem = selenium.find_element_by_id(\"password\")\n",
    "elem.send_keys(\"password\")"
   ]
  },
  {
   "cell_type": "code",
   "execution_count": null,
   "metadata": {},
   "outputs": [],
   "source": [
    "# <input class=\"btn btn-primary\" id=\"submit\" name=\"submit\" type=\"submit\" value=\"Sign In\">\n",
    "elem = selenium.find_element_by_id(\"submit\")\n",
    "elem.click()"
   ]
  },
  {
   "cell_type": "markdown",
   "metadata": {},
   "source": [
    "You can locate elements by tags, ids, names, classes and by xpath which is the most versatile way."
   ]
  },
  {
   "cell_type": "code",
   "execution_count": null,
   "metadata": {},
   "outputs": [],
   "source": [
    "# Logout\n",
    "elem = selenium.find_element_by_xpath(\"//nav//a[.='Logout']\")\n",
    "elem.click()"
   ]
  },
  {
   "cell_type": "markdown",
   "metadata": {},
   "source": [
    "Using selenium you can automate actions for any web page. Try to automate search for seznam.cz, google.com or any other site."
   ]
  },
  {
   "cell_type": "code",
   "execution_count": null,
   "metadata": {},
   "outputs": [],
   "source": []
  },
  {
   "cell_type": "markdown",
   "metadata": {},
   "source": [
    "## Getting started with pytest"
   ]
  },
  {
   "cell_type": "markdown",
   "metadata": {},
   "source": [
    "Pytest is a python testing framework."
   ]
  },
  {
   "cell_type": "code",
   "execution_count": null,
   "metadata": {},
   "outputs": [],
   "source": [
    "# Import requried stuff to run pytest in a jupyter notebook\n",
    "\n",
    "import ipytest\n",
    "import pytest\n",
    "ipytest.config(rewrite_asserts=True, magics=True)\n",
    "\n",
    "__file__ = \"Testing web applications.ipynb\""
   ]
  },
  {
   "cell_type": "code",
   "execution_count": null,
   "metadata": {},
   "outputs": [],
   "source": [
    "%%run_pytest[clean] -v -qq\n",
    "\n",
    "def inc(x):\n",
    "    return x + 1\n",
    "\n",
    "\n",
    "def test_answer():\n",
    "    assert inc(3) == 5"
   ]
  },
  {
   "cell_type": "markdown",
   "metadata": {},
   "source": [
    "### Fixtures"
   ]
  },
  {
   "cell_type": "markdown",
   "metadata": {},
   "source": [
    "Pytest has a lot of features and concepts. One of the most important and interesting thing is fixtures. The purpose of test fixtures is to provide a fixed baseline upon which tests can reliably and repeatedly execute."
   ]
  },
  {
   "cell_type": "code",
   "execution_count": null,
   "metadata": {},
   "outputs": [],
   "source": [
    "%%run_pytest[clean] -v -qq\n",
    "\n",
    "@pytest.fixture\n",
    "def smtp_connection():\n",
    "    import smtplib\n",
    "    return smtplib.SMTP(\"smtp.gmail.com\", 587, timeout=5)\n",
    "\n",
    "def test_ehlo(smtp_connection):\n",
    "    response, msg = smtp_connection.ehlo()\n",
    "    print(response)\n",
    "    print(msg)\n",
    "    assert response == 250\n",
    "    assert 0 # for demo purposes"
   ]
  },
  {
   "cell_type": "markdown",
   "metadata": {},
   "source": [
    "### Parametrization"
   ]
  },
  {
   "cell_type": "code",
   "execution_count": null,
   "metadata": {},
   "outputs": [],
   "source": [
    "%%run_pytest[clean] -q\n",
    "\n",
    "from datetime import datetime, timedelta\n",
    "\n",
    "testdata = [\n",
    "    (datetime(2001, 12, 12), datetime(2001, 12, 11), timedelta(1)),\n",
    "    (datetime(2001, 12, 11), datetime(2001, 12, 12), timedelta(1)),\n",
    "]\n",
    "\n",
    "\n",
    "@pytest.mark.parametrize(\"a, b, expected\", testdata)\n",
    "def test_timedistance_v0(a, b, expected):\n",
    "    diff = a - b\n",
    "    assert diff == expected"
   ]
  },
  {
   "cell_type": "markdown",
   "metadata": {},
   "source": [
    "## Testing web applications using selenium and pytest"
   ]
  },
  {
   "cell_type": "markdown",
   "metadata": {},
   "source": [
    "Using these two libraries we can create automated tests for any web application. Let's test login of our microblog."
   ]
  },
  {
   "cell_type": "code",
   "execution_count": null,
   "metadata": {},
   "outputs": [],
   "source": [
    "import ipytest\n",
    "import pytest\n",
    "from selenium import webdriver\n",
    "from selenium.webdriver.common.desired_capabilities import DesiredCapabilities\n",
    "\n",
    "ipytest.config(rewrite_asserts=True, magics=True)\n",
    "\n",
    "__file__ = \"Testing web applications.ipynb\"\n",
    "\n",
    "@pytest.fixture\n",
    "def browser():\n",
    "    browser = webdriver.Remote(desired_capabilities=DesiredCapabilities.FIREFOX)\n",
    "    browser.maximize_window()\n",
    "    yield browser\n",
    "    browser.close()\n",
    "    \n",
    "    \n",
    "@pytest.fixture\n",
    "def log_in(browser):\n",
    "    browser.get(\"http://127.0.0.1:5000\")\n",
    "    elem = browser.find_element_by_id('username')\n",
    "    elem.send_keys(\"user\")\n",
    "    elem = browser.find_element_by_id('password')\n",
    "    elem.send_keys(\"password\")\n",
    "    elem = browser.find_element_by_id('submit')\n",
    "    elem.click()"
   ]
  },
  {
   "cell_type": "code",
   "execution_count": null,
   "metadata": {},
   "outputs": [],
   "source": [
    "%%run_pytest[clean] -v -qq\n",
    "\n",
    "def test_login(browser, log_in):\n",
    "    assert browser.find_elements_by_xpath(\"//nav//a[.='Logout']\"), \"Login wasn't successful - logout button not found\""
   ]
  },
  {
   "cell_type": "markdown",
   "metadata": {},
   "source": [
    "Let's test post creating and deleting"
   ]
  },
  {
   "cell_type": "code",
   "execution_count": null,
   "metadata": {},
   "outputs": [],
   "source": [
    "%%run_pytest[clean] -v -qq\n",
    "\n",
    "def test_post_create_delete(browser, log_in):\n",
    "    elem = browser.find_element_by_id(\"post\")\n",
    "    elem.send_keys(\"Test post\")\n",
    "    elem = browser.find_element_by_id(\"submit\")\n",
    "    elem.click()\n",
    "    assert browser.find_elements_by_xpath(\n",
    "        \"//div[@class='container']//table//td/span[starts-with(@id, 'post') and .='Test post']\")\n",
    "    elem = browser.find_element_by_xpath(\n",
    "        \"//div[@class='container']//table//td/span[starts-with(@id, 'post') and .='Test post']/../a[.='delete']\")\n",
    "    elem.click()\n",
    "    assert not browser.find_elements_by_xpath(\n",
    "        \"//div[@class='container']//table//td/span[starts-with(@id, 'post') and .='Test post']\")"
   ]
  },
  {
   "cell_type": "code",
   "execution_count": null,
   "metadata": {},
   "outputs": [],
   "source": []
  }
 ],
 "metadata": {
  "kernelspec": {
   "display_name": "Python 3",
   "language": "python",
   "name": "python3"
  },
  "language_info": {
   "codemirror_mode": {
    "name": "ipython",
    "version": 3
   },
   "file_extension": ".py",
   "mimetype": "text/x-python",
   "name": "python",
   "nbconvert_exporter": "python",
   "pygments_lexer": "ipython3",
   "version": "3.6.7"
  }
 },
 "nbformat": 4,
 "nbformat_minor": 2
}
