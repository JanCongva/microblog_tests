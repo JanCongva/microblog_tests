{
 "cells": [
  {
   "cell_type": "markdown",
   "metadata": {},
   "source": [
    "# Getting started with Selenium"
   ]
  },
  {
   "cell_type": "markdown",
   "metadata": {},
   "source": [
    "This notebook demonstrates basics of the browser automation"
   ]
  },
  {
   "cell_type": "code",
   "execution_count": null,
   "metadata": {},
   "outputs": [],
   "source": [
    "# Import required modules\n",
    "from selenium import webdriver\n",
    "from selenium.webdriver.common.desired_capabilities import DesiredCapabilities"
   ]
  },
  {
   "cell_type": "code",
   "execution_count": null,
   "metadata": {},
   "outputs": [],
   "source": [
    "# Initialize a webdriver. We will use Firefox.\n",
    "selenium = webdriver.Remote(desired_capabilities=DesiredCapabilities.FIREFOX)"
   ]
  },
  {
   "cell_type": "code",
   "execution_count": null,
   "metadata": {},
   "outputs": [],
   "source": [
    "# Maximize a browser window\n",
    "selenium.maximize_window()"
   ]
  },
  {
   "cell_type": "code",
   "execution_count": null,
   "metadata": {},
   "outputs": [],
   "source": [
    "# Open a web page\n",
    "selenium.get(\"http://127.0.0.1:5000\")"
   ]
  },
  {
   "cell_type": "code",
   "execution_count": null,
   "metadata": {},
   "outputs": [],
   "source": [
    "# Find an element that has attribute 'id' and its value is 'usernaname'\n",
    "# <input class=\"form-control\" id=\"username\" name=\"username\" required=\"\" type=\"text\" value=\"\">\n",
    "elem = selenium.find_element_by_id(\"username\")\n",
    "elem.send_keys(\"user\")"
   ]
  },
  {
   "cell_type": "code",
   "execution_count": null,
   "metadata": {},
   "outputs": [],
   "source": [
    "# <input class=\"form-control\" id=\"password\" name=\"password\" required=\"\" type=\"password\" value=\"\">\n",
    "elem = selenium.find_element_by_id(\"password\")\n",
    "elem.send_keys(\"password\")"
   ]
  },
  {
   "cell_type": "code",
   "execution_count": null,
   "metadata": {},
   "outputs": [],
   "source": [
    "# <input class=\"btn btn-primary\" id=\"submit\" name=\"submit\" type=\"submit\" value=\"Sign In\">\n",
    "elem = selenium.find_element_by_id(\"submit\")\n",
    "elem.click()"
   ]
  },
  {
   "cell_type": "code",
   "execution_count": null,
   "metadata": {},
   "outputs": [],
   "source": [
    "# Logout\n",
    "elem = selenium.find_element_by_xpath(\"//nav//a[.='Logout']\")\n",
    "elem.click()"
   ]
  }
 ],
 "metadata": {
  "kernelspec": {
   "display_name": "Python 3",
   "language": "python",
   "name": "python3"
  },
  "language_info": {
   "codemirror_mode": {
    "name": "ipython",
    "version": 3
   },
   "file_extension": ".py",
   "mimetype": "text/x-python",
   "name": "python",
   "nbconvert_exporter": "python",
   "pygments_lexer": "ipython3",
   "version": "3.6.7"
  }
 },
 "nbformat": 4,
 "nbformat_minor": 2
}
